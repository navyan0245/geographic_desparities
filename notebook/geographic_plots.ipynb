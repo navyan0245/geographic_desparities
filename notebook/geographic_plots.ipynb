{
 "cells": [
  {
   "cell_type": "code",
   "execution_count": 1,
   "id": "eca98554-64b5-414f-ad46-8e667e6d0255",
   "metadata": {},
   "outputs": [],
   "source": [
    "import pandas as pd"
   ]
  },
  {
   "cell_type": "code",
   "execution_count": 2,
   "id": "0dd3b56c-e6c3-4ad4-9158-62532fdb0ed8",
   "metadata": {},
   "outputs": [],
   "source": [
    "all_info = pd.read_excel('../data/allyears_pop.xlsx')"
   ]
  },
  {
   "cell_type": "code",
   "execution_count": 3,
   "id": "af4c5613-e09b-4374-a786-0c5fc255854d",
   "metadata": {},
   "outputs": [
    {
     "data": {
      "text/html": [
       "<div>\n",
       "<style scoped>\n",
       "    .dataframe tbody tr th:only-of-type {\n",
       "        vertical-align: middle;\n",
       "    }\n",
       "\n",
       "    .dataframe tbody tr th {\n",
       "        vertical-align: top;\n",
       "    }\n",
       "\n",
       "    .dataframe thead th {\n",
       "        text-align: right;\n",
       "    }\n",
       "</style>\n",
       "<table border=\"1\" class=\"dataframe\">\n",
       "  <thead>\n",
       "    <tr style=\"text-align: right;\">\n",
       "      <th></th>\n",
       "      <th>year</th>\n",
       "      <th>facility_id</th>\n",
       "      <th>facility_name</th>\n",
       "      <th>county</th>\n",
       "      <th>facility_group</th>\n",
       "      <th>facility_class</th>\n",
       "      <th>total_patients</th>\n",
       "      <th>totalervisits</th>\n",
       "      <th>totaloutpatientvisits</th>\n",
       "      <th>totalinpatientdays</th>\n",
       "      <th>total_expenses</th>\n",
       "      <th>net_profit_loss</th>\n",
       "      <th>total_uninsured_patients</th>\n",
       "      <th>profit_margin</th>\n",
       "      <th>uninsured_rate</th>\n",
       "      <th>charges_per_patient</th>\n",
       "      <th>er_share</th>\n",
       "      <th>inpatient_days_per_patient</th>\n",
       "    </tr>\n",
       "  </thead>\n",
       "  <tbody>\n",
       "    <tr>\n",
       "      <th>0</th>\n",
       "      <td>2021</td>\n",
       "      <td>179</td>\n",
       "      <td>Methodist Medical Center of Oak Ridge</td>\n",
       "      <td>Anderson</td>\n",
       "      <td>NonGovermental Not-For-Profit</td>\n",
       "      <td>Other Nonprofit Corp</td>\n",
       "      <td>8637</td>\n",
       "      <td>0</td>\n",
       "      <td>129415</td>\n",
       "      <td>44835</td>\n",
       "      <td>0</td>\n",
       "      <td>0</td>\n",
       "      <td>0</td>\n",
       "      <td>0.0</td>\n",
       "      <td>0.0</td>\n",
       "      <td>0.0</td>\n",
       "      <td>0.0</td>\n",
       "      <td>5.19</td>\n",
       "    </tr>\n",
       "  </tbody>\n",
       "</table>\n",
       "</div>"
      ],
      "text/plain": [
       "   year  facility_id                          facility_name    county  \\\n",
       "0  2021          179  Methodist Medical Center of Oak Ridge  Anderson   \n",
       "\n",
       "                  facility_group        facility_class  total_patients  \\\n",
       "0  NonGovermental Not-For-Profit  Other Nonprofit Corp            8637   \n",
       "\n",
       "   totalervisits  totaloutpatientvisits  totalinpatientdays  total_expenses  \\\n",
       "0              0                 129415               44835               0   \n",
       "\n",
       "   net_profit_loss  total_uninsured_patients  profit_margin  uninsured_rate  \\\n",
       "0                0                         0            0.0             0.0   \n",
       "\n",
       "   charges_per_patient  er_share  inpatient_days_per_patient  \n",
       "0                  0.0       0.0                        5.19  "
      ]
     },
     "execution_count": 3,
     "metadata": {},
     "output_type": "execute_result"
    }
   ],
   "source": [
    "all_info.head(1)"
   ]
  },
  {
   "cell_type": "code",
   "execution_count": null,
   "id": "b8ee587d-e1dc-4233-b9c7-4b8ab2b9ee7a",
   "metadata": {},
   "outputs": [],
   "source": []
  }
 ],
 "metadata": {
  "kernelspec": {
   "display_name": "Python [conda env:base] *",
   "language": "python",
   "name": "conda-base-py"
  },
  "language_info": {
   "codemirror_mode": {
    "name": "ipython",
    "version": 3
   },
   "file_extension": ".py",
   "mimetype": "text/x-python",
   "name": "python",
   "nbconvert_exporter": "python",
   "pygments_lexer": "ipython3",
   "version": "3.13.5"
  }
 },
 "nbformat": 4,
 "nbformat_minor": 5
}
