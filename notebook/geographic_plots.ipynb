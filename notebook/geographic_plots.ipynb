{
 "cells": [
  {
   "cell_type": "code",
   "execution_count": null,
   "id": "eca98554-64b5-414f-ad46-8e667e6d0255",
   "metadata": {},
   "outputs": [],
   "source": [
    "import pandas as pd\n",
    "import matplotlib.pyplot as plt"
   ]
  },
  {
   "cell_type": "code",
   "execution_count": null,
   "id": "0dd3b56c-e6c3-4ad4-9158-62532fdb0ed8",
   "metadata": {},
   "outputs": [],
   "source": [
    "all_info = pd.read_excel('../data/allyears_pop.xlsx')"
   ]
  },
  {
   "cell_type": "code",
   "execution_count": null,
   "id": "af4c5613-e09b-4374-a786-0c5fc255854d",
   "metadata": {},
   "outputs": [],
   "source": [
    "all_info.head(1)"
   ]
  },
  {
   "cell_type": "code",
   "execution_count": null,
   "id": "b8ee587d-e1dc-4233-b9c7-4b8ab2b9ee7a",
   "metadata": {},
   "outputs": [],
   "source": [
    "df_all_years = pd.read_excel('../data/df_all_years.xlsx')"
   ]
  },
  {
   "cell_type": "code",
   "execution_count": null,
   "id": "6acc3784-086c-422e-afbe-8363022c1d29",
   "metadata": {},
   "outputs": [],
   "source": [
    "df_all_years.columns"
   ]
  },
  {
   "cell_type": "code",
   "execution_count": null,
   "id": "ff83ed36-2d10-4a83-a703-c8667cc2f8df",
   "metadata": {},
   "outputs": [],
   "source": [
    "# 1. Claims by Payer Type\n",
    "claims = {\n",
    "    \"Medicare\": df_all_years[\"medicare_as_primary_num_of_claims\"].sum(),\n",
    "    \"Commercial/BCBS\": df_all_years[\"comm_bcbs_as_payer_num_of_claims\"].sum(),\n",
    "    \"Other Payer\": df_all_years[\"other_payer_as_primary_num_of_claims\"].sum()}\n"
   ]
  },
  {
   "cell_type": "code",
   "execution_count": null,
   "id": "44484582-09f4-4070-939a-f16843201a19",
   "metadata": {},
   "outputs": [],
   "source": [
    "\n",
    "plt.bar(claims.keys(), claims.values())\n",
    "plt.title(\"Claims by Payer Type\")\n",
    "plt.ylabel(\"Number of Claims\")\n",
    "plt.show()"
   ]
  },
  {
   "cell_type": "code",
   "execution_count": null,
   "id": "624d3220-7e76-4d91-8027-b7a890b86081",
   "metadata": {},
   "outputs": [],
   "source": [
    "# 2. Charges vs Payments by Payer\n",
    "charges_payments = pd.DataFrame({\n",
    "    \"Inpatient Charges\": [df_all_years[\"medicare_claims_inpatient_total_charges\"].sum(),\n",
    "                          df_all_years[\"comm_blue_cross_blue_shield_inpatient_total_charges\"].sum()],\n",
    "    \"Inpatient Payments\": [df_all_years[\"medicare_claims_inpatient_total_payment\"].sum(),\n",
    "                           df_all_years[\"comm_blue_cross_blue_shield_inpatient_total_payment\"].sum()]\n",
    "}, index=[\"Medicare\", \"Commercial/BCBS\"])"
   ]
  },
  {
   "cell_type": "code",
   "execution_count": null,
   "id": "c19be251-7429-4557-9b93-af3d3a1421ac",
   "metadata": {},
   "outputs": [],
   "source": [
    "charges_payments.plot(kind=\"bar\")\n",
    "plt.title(\"Charges vs Payments (Inpatient)\")\n",
    "plt.ylabel(\"Amount ($)\")\n",
    "plt.show()"
   ]
  },
  {
   "cell_type": "code",
   "execution_count": null,
   "id": "a681d660-9139-4d36-bc9a-a572faf22b20",
   "metadata": {},
   "outputs": [],
   "source": [
    "# 3. Uninsured Impact\n",
    "uninsured = {\n",
    "    \"Uninsured Inpatient Charges\": df_all_years[\"uninsured_inpatient_charges\"].sum(),\n",
    "    \"Uninsured Outpatient Charges\": df_all_years[\"uninsured_outpatient_charges\"].sum()\n",
    "}\n"
   ]
  },
  {
   "cell_type": "code",
   "execution_count": null,
   "id": "9f7912bb-9806-40a8-bf93-48f28d079b5f",
   "metadata": {},
   "outputs": [],
   "source": [
    "plt.bar(uninsured.keys(), uninsured.values())\n",
    "plt.title(\"Uninsured Patients and Charges\")\n",
    "plt.ylabel(\"Count / Amount ($)\")\n",
    "plt.xticks(rotation=45)\n",
    "plt.show()"
   ]
  },
  {
   "cell_type": "code",
   "execution_count": null,
   "id": "667b47f7-8e9d-45ad-abb9-741a7bf09762",
   "metadata": {},
   "outputs": [],
   "source": [
    "# 4. Limited Service Insurance\n",
    "limited_service = pd.DataFrame({\n",
    "    \"Charges\": [df_all_years[\"inpatient_charges_with_limited_service_insurance\"].sum(),\n",
    "                df_all_years[\"outpatient_charges_with_limited_service_insurance\"].sum()],\n",
    "    \"Payments\": [df_all_years[\"inpatient_total_payment_with_limited_service_insurance\"].sum(),\n",
    "                 df_all_years[\"outpatient_total_payment_with_limited_service_insurance\"].sum()]\n",
    "}, index=[\"Inpatient\", \"Outpatient\"])"
   ]
  },
  {
   "cell_type": "code",
   "execution_count": null,
   "id": "7c34b4ac-89ab-4fe3-b804-738f9330baf5",
   "metadata": {},
   "outputs": [],
   "source": [
    "\n",
    "limited_service.plot(kind=\"bar\")\n",
    "plt.title(\"Limited Service Insurance (Charges vs Payments)\")\n",
    "plt.ylabel(\"Amount ($)\")\n",
    "plt.show()\n"
   ]
  },
  {
   "cell_type": "code",
   "execution_count": null,
   "id": "2d3b333f-72ec-4a2f-ae31-1596f8d081f2",
   "metadata": {},
   "outputs": [],
   "source": [
    "# 5. Revenue by Source\n",
    "revenue = {\n",
    "    \"Govt Sources\": df_all_years[\"total_govt_sources_net_patient_revenue\"].sum(),\n",
    "    \"Non-Govt\": df_all_years[\"total_non-govt_net_patient_revenue\"].sum(),\n",
    "    \"Net Inpatient\": df_all_years[\"total_net_inpatient_revenue\"].sum(),\n",
    "    \"Net Outpatient\": df_all_years[\"total_outpatient_net_patient_revenue\"].sum()\n",
    "}"
   ]
  },
  {
   "cell_type": "code",
   "execution_count": null,
   "id": "a162dd33-7e6e-493c-91d1-c6a6f74b58ef",
   "metadata": {},
   "outputs": [],
   "source": [
    "\n",
    "plt.pie(revenue.values(), labels=revenue.keys(), autopct=\"%1.1f%%\")\n",
    "plt.title(\"Revenue by Source\")\n",
    "plt.show()"
   ]
  },
  {
   "cell_type": "code",
   "execution_count": null,
   "id": "94d6af14-6d57-4218-9613-03bce83455f3",
   "metadata": {},
   "outputs": [],
   "source": [
    "# 6. Financial Summary\n",
    "revenue_total = df_all_years[\"total_revenue\"].sum()\n",
    "expenses_total = df_all_years[\"total_expenses\"].sum()\n",
    "net_profit_loss = df_all_years[\"net_profit_loss\"].sum()\n",
    "\n",
    "financials = [revenue_total, expenses_total, net_profit_loss]\n",
    "labels = [\"Revenue\", \"Expenses\", \"Net Profit/Loss\"]"
   ]
  },
  {
   "cell_type": "code",
   "execution_count": null,
   "id": "e00dd2d4-1424-428a-bc09-1f80610f6bc4",
   "metadata": {},
   "outputs": [],
   "source": [
    "\n",
    "\n",
    "plt.bar(labels, financials, color=[\"green\", \"red\", \"blue\"])\n",
    "plt.title(\"Financial Summary\")\n",
    "plt.ylabel(\"Amount ($)\")\n",
    "plt.show()"
   ]
  },
  {
   "cell_type": "code",
   "execution_count": null,
   "id": "f87330e5-07a7-4335-9b06-409ff69b78db",
   "metadata": {},
   "outputs": [],
   "source": [
    "\n",
    "# Create figure with subplots\n",
    "fig, axes = plt.subplots(3, 2, figsize=(14, 12))\n",
    "axes = axes.flatten()  # flatten for easy indexing\n",
    "\n",
    "# Custom color palette\n",
    "colors = {\n",
    "    \"brown\": \"#B98C8F\",\n",
    "    \"pink\": \"#E68F96\",\n",
    "    \"yellow\": \"#EDDDB3\",\n",
    "    \"orange\": \"#F0A787\",\n",
    "    \"blue\": \"#7E80A8\"\n",
    "}\n",
    "\n",
    "# -------------------------------\n",
    "# 1. Claims by Payer Type\n",
    "# -------------------------------\n",
    "claims = {\n",
    "    \"Medicare\": df_all_years[\"medicare_as_primary_num_of_claims\"].sum(),\n",
    "    \"Commercial/BCBS\": df_all_years[\"comm_bcbs_as_payer_num_of_claims\"].sum(),\n",
    "    \"Other Payer\": df_all_years[\"other_payer_as_primary_num_of_claims\"].sum()\n",
    "}\n",
    "axes[0].bar(claims.keys(), claims.values(), \n",
    "            color=[colors[\"blue\"], colors[\"pink\"], colors[\"brown\"]], edgecolor=\"black\")\n",
    "axes[0].set_title(\"Claims by Payer Type\")\n",
    "axes[0].set_ylabel(\"Number of Claims\")\n",
    "\n",
    "# -------------------------------\n",
    "# 2. Charges vs Payments (Inpatient)\n",
    "# -------------------------------\n",
    "charges_payments = pd.DataFrame({\n",
    "    \"Inpatient Charges\": [df_all_years[\"medicare_claims_inpatient_total_charges\"].sum(),\n",
    "                          df_all_years[\"comm_blue_cross_blue_shield_inpatient_total_charges\"].sum()],\n",
    "    \"Inpatient Payments\": [df_all_years[\"medicare_claims_inpatient_total_payment\"].sum(),\n",
    "                           df_all_years[\"comm_blue_cross_blue_shield_inpatient_total_payment\"].sum()]\n",
    "}, index=[\"Medicare\", \"Commercial/BCBS\"])\n",
    "charges_payments.plot(kind=\"bar\", ax=axes[1], \n",
    "                      color=[colors[\"orange\"], colors[\"yellow\"]], edgecolor=\"black\")\n",
    "axes[1].set_title(\"Charges vs Payments (Inpatient)\")\n",
    "axes[1].set_ylabel(\"Amount ($)\")\n",
    "\n",
    "# -------------------------------\n",
    "# 3. Uninsured Impact\n",
    "# -------------------------------\n",
    "uninsured = {\n",
    "    \"Uninsured Inpatient Charges\": df_all_years[\"uninsured_inpatient_charges\"].sum(),\n",
    "    \"Uninsured Outpatient Charges\": df_all_years[\"uninsured_outpatient_charges\"].sum()\n",
    "}\n",
    "axes[2].bar(uninsured.keys(), uninsured.values(), \n",
    "            color=[colors[\"brown\"], colors[\"orange\"]], edgecolor=\"black\")\n",
    "axes[2].set_title(\"Uninsured Patients and Charges\")\n",
    "axes[2].set_ylabel(\"Count / Amount ($)\")\n",
    "axes[2].tick_params(axis=\"x\", rotation=20)\n",
    "\n",
    "# -------------------------------\n",
    "# 4. Limited Service Insurance\n",
    "# -------------------------------\n",
    "limited_service = pd.DataFrame({\n",
    "    \"Charges\": [df_all_years[\"inpatient_charges_with_limited_service_insurance\"].sum(),\n",
    "                df_all_years[\"outpatient_charges_with_limited_service_insurance\"].sum()],\n",
    "    \"Payments\": [df_all_years[\"inpatient_total_payment_with_limited_service_insurance\"].sum(),\n",
    "                 df_all_years[\"outpatient_total_payment_with_limited_service_insurance\"].sum()]\n",
    "}, index=[\"Inpatient\", \"Outpatient\"])\n",
    "limited_service.plot(kind=\"bar\", ax=axes[3], \n",
    "                     color=[colors[\"blue\"], colors[\"pink\"]], edgecolor=\"black\")\n",
    "axes[3].set_title(\"Limited Service Insurance (Charges vs Payments)\")\n",
    "axes[3].set_ylabel(\"Amount ($)\")\n",
    "\n",
    "# -------------------------------\n",
    "# 5. Revenue by Source (Pie)\n",
    "# -------------------------------\n",
    "revenue = {\n",
    "    \"Govt Sources\": df_all_years[\"total_govt_sources_net_patient_revenue\"].sum(),\n",
    "    \"Non-Govt\": df_all_years[\"total_non-govt_net_patient_revenue\"].sum(),\n",
    "    \"Net Inpatient\": df_all_years[\"total_net_inpatient_revenue\"].sum(),\n",
    "    \"Net Outpatient\": df_all_years[\"total_outpatient_net_patient_revenue\"].sum()\n",
    "}\n",
    "axes[4].pie(revenue.values(), labels=revenue.keys(), \n",
    "            colors=[colors[\"yellow\"], colors[\"pink\"], colors[\"blue\"], colors[\"orange\"]],\n",
    "            autopct=\"%1.1f%%\", startangle=90)\n",
    "axes[4].set_title(\"Revenue by Source\")\n",
    "\n",
    "# -------------------------------\n",
    "# 6. Financial Summary\n",
    "# -------------------------------\n",
    "revenue_total = df_all_years[\"total_revenue\"].sum()\n",
    "expenses_total = df_all_years[\"total_expenses\"].sum()\n",
    "net_profit_loss = df_all_years[\"net_profit_loss\"].sum()\n",
    "financials = [revenue_total, expenses_total, net_profit_loss]\n",
    "labels = [\"Revenue\", \"Expenses\", \"Net Profit/Loss\"]\n",
    "\n",
    "axes[5].bar(labels, financials, \n",
    "            color=[colors[\"yellow\"] if \"yellow\" in colors else \"yellow\", colors[\"pink\"], colors[\"blue\"]], \n",
    "            edgecolor=\"black\")\n",
    "axes[5].set_title(\"Financial Summary\")\n",
    "axes[5].set_ylabel(\"Amount ($)\")\n",
    "\n",
    "# Adjust layout\n",
    "plt.tight_layout()\n",
    "\n",
    "# Save to local file\n",
    "file_path = \"../data/financial_summary.png\"\n",
    "plt.savefig(file_path, dpi=300)\n",
    "plt.show()\n",
    "\n",
    "print(f\"Saved to {file_path}\")\n"
   ]
  },
  {
   "cell_type": "code",
   "execution_count": null,
   "id": "48e20667-34a5-417c-ba09-3ada1187ff15",
   "metadata": {},
   "outputs": [],
   "source": [
    "\n",
    "\n",
    "# --- Rural facilities grouped by year ---\n",
    "rural_facilities = (\n",
    "    all_years[all_years[\"urban_rural\"] == \"Rural\"]\n",
    "    .groupby(\"year\")[\"facility_id\"]\n",
    "    .nunique()\n",
    "    .reset_index(name=\"rural_facility_count\")\n",
    ")\n",
    "\n",
    "print(\"Rural Facilities by Year\")\n",
    "print(rural_facilities)\n",
    "\n",
    "# --- Urban facilities grouped by year ---\n",
    "urban_facilities = (\n",
    "    all_years[all_years[\"urban_rural\"] == \"Urban\"]\n",
    "    .groupby(\"year\")[\"facility_id\"]\n",
    "    .nunique()\n",
    "    .reset_index(name=\"urban_facility_count\")\n",
    ")\n",
    "\n",
    "print(\"\\nUrban Facilities by Year\")\n",
    "print(urban_facilities)\n",
    "\n",
    "# --- Plotting separately ---\n",
    "plt.figure(figsize=(8,5))\n",
    "plt.plot(rural_facilities[\"year\"], rural_facilities[\"rural_facility_count\"], marker=\"o\", label=\"Rural\")\n",
    "plt.plot(urban_facilities[\"year\"], urban_facilities[\"urban_facility_count\"], marker=\"o\", label=\"Urban\")\n",
    "plt.title(\"Facility Count by Year (Urban vs Rural)\")\n",
    "plt.xlabel(\"Year\")\n",
    "plt.ylabel(\"Facility Count\")\n",
    "plt.legend()\n",
    "plt.show()\n"
   ]
  }
 ],
 "metadata": {
  "kernelspec": {
   "display_name": "Python [conda env:base] *",
   "language": "python",
   "name": "conda-base-py"
  },
  "language_info": {
   "codemirror_mode": {
    "name": "ipython",
    "version": 3
   },
   "file_extension": ".py",
   "mimetype": "text/x-python",
   "name": "python",
   "nbconvert_exporter": "python",
   "pygments_lexer": "ipython3",
   "version": "3.13.5"
  }
 },
 "nbformat": 4,
 "nbformat_minor": 5
}
